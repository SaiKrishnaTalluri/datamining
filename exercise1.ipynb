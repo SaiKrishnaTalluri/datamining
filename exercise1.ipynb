{
 "cells": [
  {
   "cell_type": "code",
   "execution_count": 8,
   "metadata": {},
   "outputs": [
    {
     "ename": "ModuleNotFoundError",
     "evalue": "No module named 'numpy'",
     "output_type": "error",
     "traceback": [
      "\u001b[1;31m---------------------------------------------------------------------------\u001b[0m",
      "\u001b[1;31mModuleNotFoundError\u001b[0m                       Traceback (most recent call last)",
      "Cell \u001b[1;32mIn[8], line 1\u001b[0m\n\u001b[1;32m----> 1\u001b[0m \u001b[38;5;28;01mimport\u001b[39;00m \u001b[38;5;21;01mnumpy\u001b[39;00m \u001b[38;5;28;01mas\u001b[39;00m \u001b[38;5;21;01mnp\u001b[39;00m\n\u001b[0;32m      2\u001b[0m \u001b[38;5;28;01mimport\u001b[39;00m \u001b[38;5;21;01mitertools\u001b[39;00m\n\u001b[0;32m      4\u001b[0m \u001b[38;5;66;03m# 1) Define the matrices and perform operations\u001b[39;00m\n\u001b[0;32m      5\u001b[0m \n\u001b[0;32m      6\u001b[0m \u001b[38;5;66;03m# Using Python Lists\u001b[39;00m\n",
      "\u001b[1;31mModuleNotFoundError\u001b[0m: No module named 'numpy'"
     ]
    }
   ],
   "source": [
    "\n",
    "C_np = np.array(C)\n",
    "\n",
    "# 2) Create a List and perform operations\n",
    "my_list = [1225, 4986, 6789, 7890, 2345, 6783, 987, 1234, 8765, 3456]\n",
    "\n",
    "# II. Iterate using a for loop\n",
    "for item in my_list:\n",
    "    print(item)\n",
    "\n",
    "# III. Iterate using for loop and range\n",
    "for i in range(len(my_list)):\n",
    "    print(my_list[i])\n",
    "\n",
    "# IV. List Comprehension\n",
    "[print(item) for item in my_list]\n",
    "\n",
    "# V. Enumerate\n",
    "for index, item in enumerate(my_list):\n",
    "    print(index, item)\n",
    "\n",
    "# VI. Iter function and next function\n",
    "iter_list = iter(my_list)\n",
    "print(next(iter_list))\n",
    "\n",
    "# VII. Map function\n",
    "list(map(print, my_list))\n",
    "\n",
    "# VIII. Using zip\n",
    "for a, b in zip(my_list, my_list):\n",
    "    print(a, b)\n",
    "\n",
    "# IX. Using NumPy Module\n",
    "np_list = np.array(my_list)\n",
    "print(np_list)\n",
    "\n",
    "# 3) Compute all combinations and permutations\n",
    "A = [1, 2, 3, 4, 5]\n",
    "B = [6, 7, 8, 9, 10]\n",
    "C = [11, 12, 13, 14, 15]\n",
    "D = [16, 17, 18, 19, 20]\n",
    "E = [21, 22, 23, 24, 25]\n",
    "\n",
    "combinations = list(itertools.combinations(A + B + C + D + E, 3))\n",
    "permutations = list(itertools.permutations(A + B + C + D + E, 3))\n",
    "\n",
    "# 4) Using itertools compute permutations and combinations\n",
    "itertools_combinations = list(itertools.combinations(my_list, 3))\n",
    "itertools_permutations = list(itertools.permutations(my_list, 3))\n"
   ]
  }
 ],
 "metadata": {
  "kernelspec": {
   "display_name": "Python 3",
   "language": "python",
   "name": "python3"
  },
  "language_info": {
   "codemirror_mode": {
    "name": "ipython",
    "version": 3
   },
   "file_extension": ".py",
   "mimetype": "text/x-python",
   "name": "python",
   "nbconvert_exporter": "python",
   "pygments_lexer": "ipython3",
   "version": "3.12.5"
  }
 },
 "nbformat": 4,
 "nbformat_minor": 2
}
